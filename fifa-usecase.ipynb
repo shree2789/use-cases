{
 "cells": [
  {
   "cell_type": "code",
   "execution_count": 1,
   "id": "61da4b0b",
   "metadata": {},
   "outputs": [
    {
     "data": {
      "text/plain": [
       "'C:\\\\Users\\\\Admin\\\\use_cases_EDA\\\\FIFA'"
      ]
     },
     "execution_count": 1,
     "metadata": {},
     "output_type": "execute_result"
    }
   ],
   "source": [
    "pwd"
   ]
  },
  {
   "cell_type": "code",
   "execution_count": 2,
   "id": "10681c18",
   "metadata": {},
   "outputs": [
    {
     "name": "stderr",
     "output_type": "stream",
     "text": [
      "UsageError: unrecognized arguments: # for showing the figures in the Notebook itself\n"
     ]
    }
   ],
   "source": [
    "import numpy as np\n",
    "import pandas as pd\n",
    "import os\n",
    "import warnings\n",
    "warnings.filterwarnings('ignore')\n",
    "import seaborn as sns\n",
    "import matplotlib.pyplot as plt\n",
    "%matplotlib inline # for showing the figures in the Notebook itself\n",
    "\n",
    "# We dont Probably need the Gridlines. Do we? If yes comment this line\n",
    "sns.set(style=\"ticks\")\n",
    "\n",
    "flatui = [\"#9b59b6\", \"#3498db\", \"#95a5a6\", \"#e74c3c\", \"#34495e\", \"#2ecc71\"] # defining the colour palette\n",
    "flatui = sns.color_palette(flatui)\n",
    "\n",
    "  # importing the worldcloud module. Wordcloud uses the text sizes to represent the frequency of the text"
   ]
  },
  {
   "cell_type": "code",
   "execution_count": null,
   "id": "4ce76541",
   "metadata": {},
   "outputs": [],
   "source": [
    "df=pd.read_csv(\"FIFA_data.csv\")"
   ]
  },
  {
   "cell_type": "code",
   "execution_count": null,
   "id": "fe6e8d70",
   "metadata": {},
   "outputs": [],
   "source": [
    "df"
   ]
  },
  {
   "cell_type": "code",
   "execution_count": null,
   "id": "7d780f12",
   "metadata": {},
   "outputs": [],
   "source": [
    "df.head(10)"
   ]
  },
  {
   "cell_type": "code",
   "execution_count": null,
   "id": "7dbb183a",
   "metadata": {},
   "outputs": [],
   "source": [
    "df.info()"
   ]
  },
  {
   "cell_type": "code",
   "execution_count": null,
   "id": "3ceb0742",
   "metadata": {},
   "outputs": [],
   "source": [
    "df.columns"
   ]
  },
  {
   "cell_type": "code",
   "execution_count": null,
   "id": "d7345e8a",
   "metadata": {},
   "outputs": [],
   "source": [
    "df.isnull().sum()"
   ]
  },
  {
   "cell_type": "code",
   "execution_count": null,
   "id": "cdf183bd",
   "metadata": {},
   "outputs": [],
   "source": [
    "#ploting columns heatmap using correlation matrix"
   ]
  },
  {
   "cell_type": "code",
   "execution_count": null,
   "id": "a19eee08",
   "metadata": {},
   "outputs": [],
   "source": [
    "f,ax=plt.subplots(figsize=(20,25))\n",
    "sns.heatmap(df.corr(),annot=True, linecolor='red',linewidths=0.5, fmt='.1f',ax=ax)\n",
    "plt.show()\n",
    "                  "
   ]
  },
  {
   "cell_type": "code",
   "execution_count": null,
   "id": "be9d5955",
   "metadata": {},
   "outputs": [],
   "source": [
    "# Plotiing the wordcloud for the Nationalit column\n",
    "!pip install WordCloud\n",
    "from wordcloud import WordCloud \n",
    "plt.subplots(figsize=(25,15))\n",
    "wordcloud = WordCloud(\n",
    "                          background_color='white',\n",
    "                          width=1920,\n",
    "                          height=1080\n",
    "                         ).generate(\" \".join(df.Nationality))\n",
    "plt.imshow(wordcloud)\n",
    "plt.axis('off')\n",
    "plt.savefig('graph.png')\n",
    "plt.show()"
   ]
  },
  {
   "cell_type": "code",
   "execution_count": null,
   "id": "0f99d180",
   "metadata": {},
   "outputs": [],
   "source": [
    "#Imputing the missing values for the columns Club and Position"
   ]
  },
  {
   "cell_type": "code",
   "execution_count": null,
   "id": "647c0793",
   "metadata": {},
   "outputs": [],
   "source": [
    "df['Club'].fillna('no club', inplace=True)"
   ]
  },
  {
   "cell_type": "code",
   "execution_count": null,
   "id": "99e01e40",
   "metadata": {},
   "outputs": [],
   "source": [
    "df['Position'].fillna('ST', inplace=True)"
   ]
  },
  {
   "cell_type": "code",
   "execution_count": null,
   "id": "5aff0a45",
   "metadata": {},
   "outputs": [],
   "source": [
    "to_impute_by_mean =df.loc[:,['Crossing', 'Finishing', 'HeadingAccuracy',\n",
    "                                 'ShortPassing', 'Volleys', 'Dribbling', 'Curve', 'FKAccuracy',\n",
    "                                 'LongPassing', 'BallControl', 'Acceleration', 'SprintSpeed',\n",
    "                                 'Agility', 'Reactions', 'Balance', 'ShotPower', 'Jumping',\n",
    "                                 'Stamina', 'Strength', 'LongShots', 'Aggression', 'Interceptions',\n",
    "                                 'Positioning', 'Vision', 'Penalties', 'Composure', 'Marking',\n",
    "                                 'StandingTackle', 'SlidingTackle', 'GKDiving', 'GKHandling',\n",
    "                                 'GKKicking', 'GKPositioning', 'GKReflexes']]"
   ]
  },
  {
   "cell_type": "code",
   "execution_count": null,
   "id": "9613117d",
   "metadata": {},
   "outputs": [],
   "source": [
    "for i in to_impute_by_mean.columns:\n",
    "    df[i].fillna(df[i].mean(),inplace=True)"
   ]
  },
  {
   "cell_type": "code",
   "execution_count": null,
   "id": "2194a770",
   "metadata": {},
   "outputs": [],
   "source": [
    "#for mode\n",
    "\n",
    "to_impute_by_mode = df.loc[:, ['Body Type','International Reputation', 'Height', 'Weight', 'Preferred Foot','Jersey Number']]\n",
    "for i in to_impute_by_mode.columns:\n",
    "    df[i].fillna(df[i].mode()[0], inplace = True)"
   ]
  },
  {
   "cell_type": "code",
   "execution_count": null,
   "id": "854461b1",
   "metadata": {},
   "outputs": [],
   "source": [
    "to_impute_by_median = df.loc[:, ['Weak Foot', 'Skill Moves', ]]   #for median\n",
    "for i in to_impute_by_median.columns:\n",
    "    df[i].fillna(df[i].median(), inplace = True)"
   ]
  },
  {
   "cell_type": "code",
   "execution_count": null,
   "id": "222ffea8",
   "metadata": {},
   "outputs": [],
   "source": [
    "df.head(20)"
   ]
  },
  {
   "cell_type": "code",
   "execution_count": null,
   "id": "d6a9c305",
   "metadata": {},
   "outputs": [],
   "source": [
    "df.columns[df.isna().any()]"
   ]
  },
  {
   "cell_type": "code",
   "execution_count": null,
   "id": "4c95c183",
   "metadata": {},
   "outputs": [],
   "source": [
    "df.fillna(0, inplace = True) # Filling the remaining  missing values with zero\n",
    "df.head(20)"
   ]
  },
  {
   "cell_type": "code",
   "execution_count": null,
   "id": "ef557421",
   "metadata": {},
   "outputs": [],
   "source": [
    "# functions to get the rounded values from different columns\n",
    "def defending(data):\n",
    "    return int(round((data[['Marking', 'StandingTackle', \n",
    "                               'SlidingTackle']].mean()).mean()))\n",
    "\n",
    "def general(data):\n",
    "    return int(round((data[['HeadingAccuracy', 'Dribbling', 'Curve', \n",
    "                               'BallControl']].mean()).mean()))\n",
    "\n",
    "def mental(data):\n",
    "    return int(round((data[['Aggression', 'Interceptions', 'Positioning', \n",
    "                               'Vision','Composure']].mean()).mean()))\n",
    "\n",
    "def passing(data):\n",
    "    return int(round((data[['Crossing', 'ShortPassing', \n",
    "                               'LongPassing']].mean()).mean()))\n",
    "\n",
    "def mobility(data):\n",
    "    return int(round((data[['Acceleration', 'SprintSpeed', \n",
    "                               'Agility','Reactions']].mean()).mean()))\n",
    "def power(data):\n",
    "    return int(round((data[['Balance', 'Jumping', 'Stamina', \n",
    "                               'Strength']].mean()).mean()))\n",
    "\n",
    "def rating(data):\n",
    "    return int(round((data[['Potential', 'Overall']].mean()).mean()))\n",
    "\n",
    "def shooting(data):\n",
    "    return int(round((data[['Finishing', 'Volleys', 'FKAccuracy', \n",
    "                               'ShotPower','LongShots', 'Penalties']].mean()).mean()))"
   ]
  },
  {
   "cell_type": "code",
   "execution_count": null,
   "id": "0c83e9f5",
   "metadata": {},
   "outputs": [],
   "source": [
    "#renaming coloumns\n",
    "df.rename(columns={'Club Logo':'Club_logo'}, inplace=True)"
   ]
  },
  {
   "cell_type": "code",
   "execution_count": null,
   "id": "84830474",
   "metadata": {},
   "outputs": [],
   "source": [
    "df.columns"
   ]
  },
  {
   "cell_type": "code",
   "execution_count": null,
   "id": "9ee4a088",
   "metadata": {},
   "outputs": [],
   "source": [
    "# adding these categories to the data\n",
    "\n",
    "df['Defending'] = df.apply(defending, axis = 1)\n",
    "df['General'] = df.apply(general, axis = 1)\n",
    "df['Mental'] = df.apply(mental, axis = 1)\n",
    "df['Passing'] = df.apply(passing, axis = 1)\n",
    "df['Mobility'] = df.apply(mobility, axis = 1)\n",
    "df['Power'] = df.apply(power, axis = 1)\n",
    "df['Rating'] = df.apply(rating, axis = 1)\n",
    "df['Shooting'] = df.apply(shooting, axis = 1)"
   ]
  },
  {
   "cell_type": "code",
   "execution_count": null,
   "id": "04990f07",
   "metadata": {},
   "outputs": [],
   "source": [
    "df.head(20)"
   ]
  },
  {
   "cell_type": "code",
   "execution_count": null,
   "id": "12f94844",
   "metadata": {},
   "outputs": [],
   "source": [
    "players= df[['Name','Defending','General','Mental','Passing',\n",
    "                'Mobility','Power','Rating','Shooting','Flag','Age',\n",
    "                'Nationality', 'Photo', 'Club_logo', 'Club']]\n",
    "players.head(20)"
   ]
  },
  {
   "cell_type": "code",
   "execution_count": null,
   "id": "e3ee8851",
   "metadata": {},
   "outputs": [],
   "source": [
    "#diff postion by player"
   ]
  },
  {
   "cell_type": "code",
   "execution_count": null,
   "id": "81a5990a",
   "metadata": {},
   "outputs": [],
   "source": [
    "plt.figure(figsize=(10,15))\n",
    "plt.style.use('fivethirtyeight')\n",
    "ax = sns.countplot('Position', data = df, palette = 'dark')\n",
    "ax.set_xlabel(xlabel = 'Different Positions in Football', fontsize = 16)\n",
    "ax.set_ylabel(ylabel = 'Count of Players', fontsize = 16)\n",
    "ax.set_title(label = 'Comparison of Positions and Players', fontsize = 20)\n",
    "plt.show()"
   ]
  },
  {
   "cell_type": "code",
   "execution_count": null,
   "id": "6bbb3206",
   "metadata": {},
   "outputs": [],
   "source": [
    "players.columns"
   ]
  },
  {
   "cell_type": "code",
   "execution_count": null,
   "id": "21530fb2",
   "metadata": {},
   "outputs": [],
   "source": [
    "# plotting coun of players based on their heights\n",
    "plt.figure(figsize = (13, 8))\n",
    "ax = sns.countplot(x = 'Height', data = df, palette = 'bone')\n",
    "ax.set_title(label = 'Count of players on Basis of Height', fontsize = 20)\n",
    "ax.set_xlabel(xlabel = 'Height in Foot per inch', fontsize = 16)\n",
    "ax.set_ylabel(ylabel = 'Count', fontsize = 16)\n",
    "plt.show()\n"
   ]
  },
  {
   "cell_type": "code",
   "execution_count": null,
   "id": "8613c990",
   "metadata": {},
   "outputs": [],
   "source": [
    "x = df.Special\n",
    "plt.figure(figsize = (12, 8))\n",
    "plt.style.use('tableau-colorblind10')\n",
    "\n",
    "ax = sns.distplot(x, bins = 58, kde = False, color = 'cyan')\n",
    "ax.set_xlabel(xlabel = 'Special score range', fontsize = 16)\n",
    "ax.set_ylabel(ylabel = 'Count of the Players',fontsize = 16)\n",
    "ax.set_title\n",
    "plt.show()"
   ]
  },
  {
   "cell_type": "code",
   "execution_count": null,
   "id": "4b0a4d3e",
   "metadata": {},
   "outputs": [],
   "source": [
    "# Every Nations' Player and their overall scores\n",
    "\n",
    "some_countries = ('England', 'Germany', 'Spain', 'Argentina', 'France', 'Brazil', 'Italy', 'Columbia') # defining a tuple consisting of country names\n",
    "data_countries = df.loc[df['Nationality'].isin(some_countries) & df['Overall']] # extracting the overall data of the countries selected in the line above\n",
    "data_countries.head()\n",
    "\n"
   ]
  },
  {
   "cell_type": "code",
   "execution_count": null,
   "id": "85d51505",
   "metadata": {},
   "outputs": [],
   "source": [
    "plt.rcParams['figure.figsize']=(15,20\n",
    "                                 )\n",
    "ax=sns.barplot(x=data_countries['Nationality'],y=data_countries['Overall'],palette= 'spring')\n",
    "ax.set_xlabel(xlabel='Countries',fontsize=9)\n",
    "ax.set_ylabel(ylabel='Overall', fontsize=9)\n",
    "ax.set_title(label=\"overall score of player\", fontsize=20)\n",
    "plt.show()"
   ]
  },
  {
   "cell_type": "code",
   "execution_count": null,
   "id": "157e5960",
   "metadata": {},
   "outputs": [],
   "source": [
    "df['Club'].value_counts().head(10)"
   ]
  },
  {
   "cell_type": "code",
   "execution_count": null,
   "id": "88f3cfd1",
   "metadata": {},
   "outputs": [],
   "source": [
    "data=df.copy()"
   ]
  },
  {
   "cell_type": "code",
   "execution_count": null,
   "id": "625cdb72",
   "metadata": {},
   "outputs": [],
   "source": [
    "# for visualizations\n",
    "import matplotlib.pyplot as plt\n",
    "import seaborn as sns\n",
    "plt.style.use('fivethirtyeight')\n",
    "sns.set(style=\"ticks\")"
   ]
  },
  {
   "cell_type": "code",
   "execution_count": null,
   "id": "61b668a5",
   "metadata": {},
   "outputs": [],
   "source": [
    "some_clubs = ('CD Leganés', 'Southampton', 'RC Celta', 'Empoli', 'Fortuna Düsseldorf', 'Manchestar City',\n",
    "             'Tottenham Hotspur', 'FC Barcelona', 'Valencia CF', 'Chelsea', 'Real Madrid') # creating a tuple of club names\n",
    "\n",
    "data_clubs = data.loc[data['Club'].isin(some_clubs) & data['Overall']] # extracting the overall data of the clubs selected in the line above\n",
    "\n",
    "data_clubs.head()"
   ]
  },
  {
   "cell_type": "code",
   "execution_count": null,
   "id": "d33ca030",
   "metadata": {},
   "outputs": [],
   "source": [
    "plt.rcParams['figure.figsize']=(15,20\n",
    "                                 )\n",
    "ax=sns.barplot(x=data_clubs['Club'],y=data_clubs['Overall'],palette= 'inferno')\n",
    "ax.set_xlabel(xlabel='Clubs',fontsize=9)\n",
    "ax.set_ylabel(ylabel='Overall', fontsize=9)\n",
    "ax.set_title(label=\"overall distribution of player in diff clubs\", fontsize=20)\n",
    "plt.xticks(rotation =90)\n",
    "plt.show()"
   ]
  },
  {
   "cell_type": "code",
   "execution_count": null,
   "id": "838d48d8",
   "metadata": {},
   "outputs": [],
   "source": [
    "data['Preferred Foot']"
   ]
  },
  {
   "cell_type": "code",
   "execution_count": null,
   "id": "1b4e98ac",
   "metadata": {},
   "outputs": [],
   "source": [
    "left=data[data['Preferred Foot'] == 'Left'][['Name','Age','Nationality','Club']].head(10)"
   ]
  },
  {
   "cell_type": "code",
   "execution_count": null,
   "id": "eeaada06",
   "metadata": {},
   "outputs": [],
   "source": [
    "left"
   ]
  },
  {
   "cell_type": "code",
   "execution_count": null,
   "id": "0feb5fc5",
   "metadata": {},
   "outputs": [],
   "source": [
    "right=data[data['Preferred Foot'] == 'Right'][['Name','Age','Nationality','Club']].head(10)"
   ]
  },
  {
   "cell_type": "code",
   "execution_count": null,
   "id": "3ab46da7",
   "metadata": {},
   "outputs": [],
   "source": [
    "right"
   ]
  },
  {
   "cell_type": "code",
   "execution_count": null,
   "id": "a741fdc4",
   "metadata": {},
   "outputs": [],
   "source": [
    "# comparing the performance of left-footed and right-footed footballers\n",
    "# ballcontrol vs dribbing"
   ]
  },
  {
   "cell_type": "code",
   "execution_count": null,
   "id": "fb02f585",
   "metadata": {},
   "outputs": [],
   "source": [
    "sns.lmplot(x='BallControl', y='Dribbling',data=data, col='Preferred Foot')\n",
    "plt.show()\n",
    "\n"
   ]
  },
  {
   "cell_type": "code",
   "execution_count": null,
   "id": "eeb19caf",
   "metadata": {},
   "outputs": [],
   "source": [
    "data.groupby(data['Club'])['Nationality'].nunique().sort_values(ascending = False).head(10) # checking the clubs where players from the most number of nations play"
   ]
  },
  {
   "cell_type": "code",
   "execution_count": null,
   "id": "27c34e09",
   "metadata": {},
   "outputs": [],
   "source": [
    "data.groupby(data['Club'])['Nationality'].nunique().sort_values(ascending = True).head(10) # checking the clubs where players from the most number of nations play"
   ]
  },
  {
   "cell_type": "code",
   "execution_count": null,
   "id": "68517e4e",
   "metadata": {},
   "outputs": [],
   "source": [
    "df.head()"
   ]
  },
  {
   "cell_type": "code",
   "execution_count": null,
   "id": "30540179",
   "metadata": {},
   "outputs": [],
   "source": [
    "df.drop(['Unnamed: 0'],axis=1,inplace=True)\n",
    "\n"
   ]
  },
  {
   "cell_type": "code",
   "execution_count": null,
   "id": "b6bf4fcd",
   "metadata": {},
   "outputs": [],
   "source": [
    "df.head()"
   ]
  },
  {
   "cell_type": "code",
   "execution_count": null,
   "id": "3cbb41d2",
   "metadata": {},
   "outputs": [],
   "source": [
    "#Player with maximum Potential and Overall Performance\n",
    "player = str(df.loc[df['Potential'].idxmax()][1])\n",
    "print('Maximum Potential : '+str(df.loc[df['Potential'].idxmax()][1]))\n",
    "print('Maximum Overall Perforamnce : '+str(df.loc[df['Overall'].idxmax()][1]))"
   ]
  },
  {
   "cell_type": "code",
   "execution_count": null,
   "id": "90720190",
   "metadata": {},
   "outputs": [],
   "source": [
    "# finding the best players for each performance criteria\n",
    "\n",
    "pr_cols=['Crossing', 'Finishing', 'HeadingAccuracy', 'ShortPassing', 'Volleys',\n",
    "       'Dribbling', 'Curve', 'FKAccuracy', 'LongPassing', 'BallControl',\n",
    "       'Acceleration', 'SprintSpeed', 'Agility', 'Reactions', 'Balance',\n",
    "       'ShotPower', 'Jumping', 'Stamina', 'Strength', 'LongShots',\n",
    "       'Aggression', 'Interceptions', 'Positioning', 'Vision', 'Penalties',\n",
    "       'Composure', 'Marking', 'StandingTackle', 'SlidingTackle', 'GKDiving',\n",
    "       'GKHandling', 'GKKicking', 'GKPositioning', 'GKReflexes']\n",
    "i=0\n",
    "while i < len(pr_cols):\n",
    "    print('Best {0} : {1}'.format(pr_cols[i],df.loc[df[pr_cols[i]].idxmax()][1]))\n",
    "    i += 1"
   ]
  },
  {
   "cell_type": "code",
   "execution_count": null,
   "id": "4bc1c38a",
   "metadata": {},
   "outputs": [],
   "source": [
    "# finding the best players for each performance criteria\n",
    "\n",
    "pr_cols=['Crossing', 'Finishing', 'HeadingAccuracy', 'ShortPassing', 'Volleys',\n",
    "       'Dribbling', 'Curve', 'FKAccuracy', 'LongPassing', 'BallControl',\n",
    "       'Acceleration', 'SprintSpeed', 'Agility', 'Reactions', 'Balance',\n",
    "       'ShotPower', 'Jumping', 'Stamina', 'Strength', 'LongShots',\n",
    "       'Aggression', 'Interceptions', 'Positioning', 'Vision', 'Penalties',\n",
    "       'Composure', 'Marking', 'StandingTackle', 'SlidingTackle', 'GKDiving',\n",
    "       'GKHandling', 'GKKicking', 'GKPositioning', 'GKReflexes']\n",
    "i=0\n",
    "while i < len(pr_cols):\n",
    "    print('Best {0} : {1}'.format(pr_cols[i],df.loc[df[pr_cols[i]].idxmax()][1]))\n",
    "    i += 1"
   ]
  },
  {
   "cell_type": "code",
   "execution_count": null,
   "id": "9f211993",
   "metadata": {},
   "outputs": [],
   "source": [
    "# creating a list of best players in each of the pr_cols criteria\n",
    "i=0\n",
    "best = []\n",
    "while i < len(pr_cols):\n",
    "    best.append(df.loc[df[pr_cols[i]].idxmax()][1])\n",
    "    i +=1"
   ]
  },
  {
   "cell_type": "code",
   "execution_count": null,
   "id": "cc93db3c",
   "metadata": {},
   "outputs": [],
   "source": [
    "best"
   ]
  },
  {
   "cell_type": "code",
   "execution_count": null,
   "id": "ce425fa5",
   "metadata": {},
   "outputs": [],
   "source": [
    "# Plot to show the preferred foot choice of different players\n",
    "f, ax = plt.subplots(figsize=(8, 6))\n",
    "sns.countplot(x=\"Preferred Foot\", hue=\"Real Face\", data=df)\n",
    "plt.show()"
   ]
  },
  {
   "cell_type": "code",
   "execution_count": null,
   "id": "e96c548d",
   "metadata": {},
   "outputs": [],
   "source": [
    "df.loc[df['Potential'].idxmax()][1]\n",
    "\n"
   ]
  },
  {
   "cell_type": "code",
   "execution_count": null,
   "id": "d9d8628c",
   "metadata": {},
   "outputs": [],
   "source": [
    "# showing the name of the players which occurs the most number of times from the first 20 names\n",
    "plt.subplots(figsize=(25,15))\n",
    "wordcloud = WordCloud(\n",
    "                          background_color='black',\n",
    "                          width=1920,\n",
    "                          height=1080\n",
    "                         ).generate(\" \".join(df.Name[0:20]))\n",
    "plt.imshow(wordcloud)\n",
    "plt.axis('off')\n",
    "plt.savefig('players.png')\n",
    "plt.show()"
   ]
  },
  {
   "cell_type": "code",
   "execution_count": null,
   "id": "7ce3c1f2",
   "metadata": {},
   "outputs": [],
   "source": [
    "# showing the name of the players which occurs the most number of times(left join)\n",
    "plt.subplots(figsize=(25,15))\n",
    "wordcloud = WordCloud(\n",
    "                          background_color='black',\n",
    "                          width=1920,\n",
    "                          height=1080\n",
    "                         ).generate(\" \".join(right.Name))\n",
    "plt.imshow(wordcloud)\n",
    "plt.axis('off')\n",
    "plt.savefig('players.png')\n",
    "plt.show()"
   ]
  },
  {
   "cell_type": "code",
   "execution_count": null,
   "id": "855fa18c",
   "metadata": {},
   "outputs": [],
   "source": [
    "# showing the name of the players which occurs the most number of times(left join)\n",
    "plt.subplots(figsize=(25,15))\n",
    "wordcloud = WordCloud(\n",
    "                          background_color='red',\n",
    "                          width=1920,\n",
    "                          height=1080\n",
    "                         ).generate(\" \".join(left.Name))\n",
    "plt.imshow(wordcloud)\n",
    "plt.axis('off')\n",
    "plt.savefig('players.png')\n",
    "plt.show()"
   ]
  },
  {
   "cell_type": "code",
   "execution_count": null,
   "id": "8704ab09",
   "metadata": {},
   "outputs": [],
   "source": [
    "# showing the name of the players which occurs the most number of times(left join)\n",
    "plt.subplots(figsize=(25,15))\n",
    "wordcloud = WordCloud(\n",
    "                          background_color='red',\n",
    "                          width=1920,\n",
    "                          height=1080\n",
    "                         ).generate(\" \".join(best))\n",
    "plt.imshow(wordcloud)\n",
    "plt.axis('off')\n",
    "plt.savefig('players.png')\n",
    "plt.show()"
   ]
  },
  {
   "cell_type": "code",
   "execution_count": null,
   "id": "6e37a851",
   "metadata": {},
   "outputs": [],
   "source": [
    "import requests\n",
    "import random\n",
    "from math import pi\n",
    "\n",
    "import matplotlib.image as mpimg\n",
    "from matplotlib.offsetbox import (OffsetImage,AnnotationBbox)\n",
    "\n",
    "# defining a method to show the details of a player\n",
    "def details(row, title, image, age, nationality, photo, logo, club):\n",
    "    \n",
    "    flag_image = \"img_flag.jpg\"\n",
    "    player_image = \"img_player.jpg\"\n",
    "    logo_image = \"img_club_logo.jpg\"\n",
    "     \n",
    "    # obtaining the player image, flag image and logo image\n",
    "    img_flag = requests.get(image).content\n",
    "    with open(flag_image, 'wb') as handler:\n",
    "        handler.write(img_flag)\n",
    "    \n",
    "    player_img = requests.get(photo).content\n",
    "    with open(player_image, 'wb') as handler:\n",
    "        handler.write(player_img)\n",
    "     \n",
    "    logo_img = requests.get(logo).content\n",
    "    with open(logo_image, 'wb') as handler:\n",
    "        handler.write(logo_img)\n",
    "     \n",
    "    # Defining the colour schemes\n",
    "    r = lambda: random.randint(0,255)\n",
    "    colorRandom = '#%02X%02X%02X' % (r(),r(),r())\n",
    "    \n",
    "    if colorRandom == '#ffffff':colorRandom = '#a5d6a7' # if random colour  is white, assign a different colour\n",
    "    \n",
    "    basic_color = '#37474f'\n",
    "    color_annotate = '#01579b'\n",
    "    \n",
    "    img = mpimg.imread(flag_image)\n",
    "    \n",
    "    plt.figure(figsize=(15,8))\n",
    "    categories=list(players)[1:]\n",
    "    coulumnDontUseGraph = ['Flag', 'Age', 'Nationality', 'Photo', 'Logo', 'Club']\n",
    "    N = len(categories) - len(coulumnDontUseGraph)\n",
    "    \n",
    "    # adjusting the angles to show different aspects in the graph\n",
    "    angles = [n / float(N) * 2 * pi for n in range(N)]\n",
    "    angles += angles[:1]\n",
    "    \n",
    "    ax = plt.subplot(111, projection='polar') # sepcifying a  polar graph type\n",
    "    ax.set_theta_offset(pi / 2) # set the offset in radians\n",
    "    ax.set_theta_direction(-1) #the angle increases in the clockwise direction\n",
    "    plt.xticks(angles[:-1], categories, color= 'black', size=17)\n",
    "    ax.set_rlabel_position(0)\n",
    "    plt.yticks([25,50,75,100], [\"25\",\"50\",\"75\",\"100\"], color= basic_color, size= 10)\n",
    "    plt.ylim(0,100)\n",
    "    \n",
    "    #creating the list of values which are not in (image, age, nationality, photo, logo, club) to show in the graph\n",
    "    values = players.loc[row].drop('Name').values.flatten().tolist() \n",
    "    valuesDontUseGraph = [image, age, nationality, photo, logo, club]\n",
    "    values = [e for e in values if e not in (valuesDontUseGraph)]\n",
    "    values += values[:1]\n",
    "    \n",
    "    # customizing the graph attributes\n",
    "    ax.plot(angles, values, color= basic_color, linewidth=1, linestyle='solid')\n",
    "    ax.fill(angles, values, color= colorRandom, alpha=0.5)\n",
    "    axes_coords = [0, 0, 1, 1]\n",
    "    ax_image = plt.gcf().add_axes(axes_coords,zorder= -1)\n",
    "    ax_image.imshow(img,alpha=0.5)\n",
    "    ax_image.axis('off')\n",
    "    \n",
    "    # placeholders for showing nationality, age and team name\n",
    "    ax.annotate('Nationality: ' + nationality.upper(), xy=(10,10), xytext=(103, 138),\n",
    "                fontsize= 12,\n",
    "                color = 'white',\n",
    "                bbox={'facecolor': color_annotate, 'pad': 7})\n",
    "                      \n",
    "    ax.annotate('Age: ' + str(age), xy=(10,10), xytext=(43, 180),\n",
    "                fontsize= 15,\n",
    "                color = 'white',\n",
    "                bbox={'facecolor': color_annotate, 'pad': 7})\n",
    "    \n",
    "    ax.annotate('Team: ' + club.upper(), xy=(10,10), xytext=(92, 168),\n",
    "                fontsize= 12,\n",
    "                color = 'white',\n",
    "                bbox={'facecolor': color_annotate, 'pad': 7})\n",
    "\n",
    "    # specifying the location for showing the image of player\n",
    "    arr_img_player = plt.imread(player_image, format='jpg')\n",
    "    imagebox_player = OffsetImage(arr_img_player)\n",
    "    imagebox_player.image.axes = ax\n",
    "    abPlayer = AnnotationBbox(imagebox_player, (0.5, 0.7),\n",
    "                        xybox=(313, 223),\n",
    "                        xycoords='data',\n",
    "                        boxcoords=\"offset points\"\n",
    "                        )\n",
    "    # specifying the location for showing the logo\n",
    "    arr_img_logo = plt.imread(logo_image, format='jpg')\n",
    "    \n",
    "    imagebox_logo = OffsetImage(arr_img_logo)\n",
    "    imagebox_logo.image.axes = ax\n",
    "    abLogo = AnnotationBbox(imagebox_logo, (0.5, 0.7),\n",
    "                        xybox=(-350, -246),\n",
    "                        xycoords='data',\n",
    "                        boxcoords=\"offset points\"\n",
    "                        )\n",
    "\n",
    "    ax.add_artist(abPlayer)\n",
    "    ax.add_artist(abLogo)\n",
    "\n",
    "    plt.title(title, size=50, color= basic_color)"
   ]
  },
  {
   "cell_type": "code",
   "execution_count": null,
   "id": "c87c9a76",
   "metadata": {},
   "outputs": [],
   "source": [
    "# defining a method to show the leading performers\n",
    "def graphPolar(id = 0):\n",
    "    if 0 <= id < len(data.ID):\n",
    "        details(row = players.index[id], \n",
    "                title = players['Name'][id], \n",
    "                age = players['Age'][id], \n",
    "                photo = players['Photo'][id],\n",
    "                nationality = players['Nationality'][id],\n",
    "                image = players['Flag'][id], \n",
    "                logo = player['Clublogo'] [id], \n",
    "                club = players['Club'][id])\n",
    "    else:\n",
    "        print('The base has 17917 players. You can put positive numbers from 0 to 17917')"
   ]
  },
  {
   "cell_type": "code",
   "execution_count": null,
   "id": "f23ab1d2",
   "metadata": {},
   "outputs": [],
   "source": [
    "graphPolar(0\n",
    "          )\n"
   ]
  },
  {
   "cell_type": "code",
   "execution_count": null,
   "id": "14533bd1",
   "metadata": {},
   "outputs": [],
   "source": []
  }
 ],
 "metadata": {
  "kernelspec": {
   "display_name": "Python 3 (ipykernel)",
   "language": "python",
   "name": "python3"
  },
  "language_info": {
   "codemirror_mode": {
    "name": "ipython",
    "version": 3
   },
   "file_extension": ".py",
   "mimetype": "text/x-python",
   "name": "python",
   "nbconvert_exporter": "python",
   "pygments_lexer": "ipython3",
   "version": "3.9.7"
  }
 },
 "nbformat": 4,
 "nbformat_minor": 5
}
